{
 "cells": [
  {
   "cell_type": "code",
   "execution_count": 1,
   "id": "f8b03304-0b96-425a-9c69-95f8243d2c90",
   "metadata": {},
   "outputs": [],
   "source": [
    "import genjiko"
   ]
  },
  {
   "cell_type": "code",
   "execution_count": 2,
   "id": "136e0397-6095-49e0-9a2d-c9ff190876bd",
   "metadata": {},
   "outputs": [
    {
     "data": {
      "text/html": [
       "<div>\n",
       "<style scoped>\n",
       "    .dataframe tbody tr th:only-of-type {\n",
       "        vertical-align: middle;\n",
       "    }\n",
       "\n",
       "    .dataframe tbody tr th {\n",
       "        vertical-align: top;\n",
       "    }\n",
       "\n",
       "    .dataframe thead th {\n",
       "        text-align: right;\n",
       "    }\n",
       "</style>\n",
       "<table border=\"1\" class=\"dataframe\">\n",
       "  <thead>\n",
       "    <tr style=\"text-align: right;\">\n",
       "      <th></th>\n",
       "      <th>Chapter</th>\n",
       "      <th>Kanji</th>\n",
       "      <th>Romaji</th>\n",
       "      <th>English</th>\n",
       "      <th>Partition</th>\n",
       "      <th>Icon</th>\n",
       "      <th>Layout</th>\n",
       "      <th>Color</th>\n",
       "    </tr>\n",
       "  </thead>\n",
       "  <tbody>\n",
       "    <tr>\n",
       "      <th>0</th>\n",
       "      <td>2</td>\n",
       "      <td>帚木</td>\n",
       "      <td>Hōkigi</td>\n",
       "      <td>The Broom Tree</td>\n",
       "      <td>[{1}, {2}, {3}, {4}, {5}]</td>\n",
       "      <td>B</td>\n",
       "      <td>[(1.0, {1}), (1.0, {2}), (1.0, {3}), (1.0, {4}...</td>\n",
       "      <td>black</td>\n",
       "    </tr>\n",
       "    <tr>\n",
       "      <th>1</th>\n",
       "      <td>3</td>\n",
       "      <td>空蝉</td>\n",
       "      <td>Utsusemi</td>\n",
       "      <td>Utsusemi</td>\n",
       "      <td>[{1}, {2}, {3}, {4, 5}]</td>\n",
       "      <td>C</td>\n",
       "      <td>[(1.0, {1}), (1.0, {2}), (1.0, {3}), (1.0, {4,...</td>\n",
       "      <td>black</td>\n",
       "    </tr>\n",
       "    <tr>\n",
       "      <th>2</th>\n",
       "      <td>4</td>\n",
       "      <td>夕顔</td>\n",
       "      <td>Yūgao</td>\n",
       "      <td>Yūgao</td>\n",
       "      <td>[{1}, {2}, {3, 4}, {5}]</td>\n",
       "      <td>D</td>\n",
       "      <td>[(1.0, {1}), (1.0, {2}), (1.0, {3, 4}), (1.0, ...</td>\n",
       "      <td>black</td>\n",
       "    </tr>\n",
       "    <tr>\n",
       "      <th>3</th>\n",
       "      <td>5</td>\n",
       "      <td>若紫</td>\n",
       "      <td>Wakamurasaki</td>\n",
       "      <td>Young Murasaki</td>\n",
       "      <td>[{1}, {2, 3}, {4, 5}]</td>\n",
       "      <td>E</td>\n",
       "      <td>[(1.0, {1}), (1.0, {2, 3}), (1.0, {4, 5})]</td>\n",
       "      <td>black</td>\n",
       "    </tr>\n",
       "    <tr>\n",
       "      <th>4</th>\n",
       "      <td>6</td>\n",
       "      <td>末摘花</td>\n",
       "      <td>Suetsumuhana</td>\n",
       "      <td>The Saffron Flower</td>\n",
       "      <td>[{1, 2, 3, 4}, {5}]</td>\n",
       "      <td>F</td>\n",
       "      <td>[(1.0, {1, 2, 3, 4}), (1.0, {5})]</td>\n",
       "      <td>black</td>\n",
       "    </tr>\n",
       "  </tbody>\n",
       "</table>\n",
       "</div>"
      ],
      "text/plain": [
       "   Chapter Kanji        Romaji             English                  Partition  \\\n",
       "0        2    帚木        Hōkigi      The Broom Tree  [{1}, {2}, {3}, {4}, {5}]   \n",
       "1        3    空蝉      Utsusemi            Utsusemi    [{1}, {2}, {3}, {4, 5}]   \n",
       "2        4    夕顔         Yūgao               Yūgao    [{1}, {2}, {3, 4}, {5}]   \n",
       "3        5    若紫  Wakamurasaki      Young Murasaki      [{1}, {2, 3}, {4, 5}]   \n",
       "4        6   末摘花  Suetsumuhana  The Saffron Flower        [{1, 2, 3, 4}, {5}]   \n",
       "\n",
       "  Icon                                             Layout  Color  \n",
       "0    B  [(1.0, {1}), (1.0, {2}), (1.0, {3}), (1.0, {4}...  black  \n",
       "1    C  [(1.0, {1}), (1.0, {2}), (1.0, {3}), (1.0, {4,...  black  \n",
       "2    D  [(1.0, {1}), (1.0, {2}), (1.0, {3, 4}), (1.0, ...  black  \n",
       "3    E         [(1.0, {1}), (1.0, {2, 3}), (1.0, {4, 5})]  black  \n",
       "4    F                  [(1.0, {1, 2, 3, 4}), (1.0, {5})]  black  "
      ]
     },
     "execution_count": 2,
     "metadata": {},
     "output_type": "execute_result"
    }
   ],
   "source": [
    "df = genjiko.load_genjiko()\n",
    "df.head()"
   ]
  },
  {
   "cell_type": "code",
   "execution_count": 3,
   "id": "5e572bf0-3812-48d9-a044-a77c2b64f518",
   "metadata": {},
   "outputs": [],
   "source": [
    "df.to_csv(\"genjiko.csv\", index=False)"
   ]
  },
  {
   "cell_type": "code",
   "execution_count": 4,
   "id": "5b42d86c-5f07-4048-b7aa-7afefa7348e9",
   "metadata": {},
   "outputs": [],
   "source": [
    "html_table = genjiko.generate_html_table(df.drop(columns=\"Color\"))\n",
    "with open(\"genjiko_table.html\", \"w\", encoding=\"utf-8\") as file:\n",
    "    file.write(html_table.data)"
   ]
  },
  {
   "cell_type": "code",
   "execution_count": null,
   "id": "d324664e-1d67-4544-b99d-be24c2e8d1d7",
   "metadata": {},
   "outputs": [],
   "source": []
  },
  {
   "cell_type": "code",
   "execution_count": null,
   "id": "a4961a3f-d1dc-4c59-b3ff-625af96290dc",
   "metadata": {},
   "outputs": [],
   "source": []
  }
 ],
 "metadata": {
  "kernelspec": {
   "display_name": "Python 3 (ipykernel)",
   "language": "python",
   "name": "python3"
  },
  "language_info": {
   "codemirror_mode": {
    "name": "ipython",
    "version": 3
   },
   "file_extension": ".py",
   "mimetype": "text/x-python",
   "name": "python",
   "nbconvert_exporter": "python",
   "pygments_lexer": "ipython3",
   "version": "3.12.3"
  }
 },
 "nbformat": 4,
 "nbformat_minor": 5
}
