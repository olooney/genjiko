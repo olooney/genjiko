{
 "cells": [
  {
   "cell_type": "code",
   "execution_count": 1,
   "id": "9497908e-e055-4614-8958-f3da5dcd6ecc",
   "metadata": {},
   "outputs": [],
   "source": [
    "from genjiko import bell_number"
   ]
  },
  {
   "cell_type": "code",
   "execution_count": 2,
   "id": "910e5a0e-0058-416e-b77b-b97a98dc17b2",
   "metadata": {},
   "outputs": [
    {
     "name": "stdout",
     "output_type": "stream",
     "text": [
      "0 1\n",
      "1 1\n",
      "2 2\n",
      "3 5\n",
      "4 15\n",
      "5 52\n",
      "6 203\n",
      "7 877\n",
      "8 4140\n",
      "9 21147\n",
      "10 115975\n",
      "11 678570\n",
      "12 4213597\n",
      "13 27644437\n",
      "14 190899322\n",
      "15 1382958545\n",
      "16 10480142147\n",
      "17 82864869804\n",
      "18 682076806159\n",
      "19 5832742205057\n",
      "20 51724158235372\n"
     ]
    }
   ],
   "source": [
    "for n in range(20+1):\n",
    "    print(n, bell_number(n))"
   ]
  },
  {
   "cell_type": "code",
   "execution_count": null,
   "id": "dc223256-58d1-4e77-a8a3-6bcfd754df5a",
   "metadata": {},
   "outputs": [],
   "source": []
  }
 ],
 "metadata": {
  "kernelspec": {
   "display_name": "Python 3 (ipykernel)",
   "language": "python",
   "name": "python3"
  },
  "language_info": {
   "codemirror_mode": {
    "name": "ipython",
    "version": 3
   },
   "file_extension": ".py",
   "mimetype": "text/x-python",
   "name": "python",
   "nbconvert_exporter": "python",
   "pygments_lexer": "ipython3",
   "version": "3.12.3"
  }
 },
 "nbformat": 4,
 "nbformat_minor": 5
}
